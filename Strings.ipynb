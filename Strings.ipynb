{
 "cells": [
  {
   "cell_type": "code",
   "execution_count": 1,
   "metadata": {},
   "outputs": [],
   "source": [
    "import pandas as pd\n",
    "df = pd.read_csv(\"data/survey_results_public.csv\")"
   ]
  },
  {
   "cell_type": "code",
   "execution_count": 2,
   "metadata": {},
   "outputs": [
    {
     "data": {
      "text/html": [
       "<div>\n",
       "<style scoped>\n",
       "    .dataframe tbody tr th:only-of-type {\n",
       "        vertical-align: middle;\n",
       "    }\n",
       "\n",
       "    .dataframe tbody tr th {\n",
       "        vertical-align: top;\n",
       "    }\n",
       "\n",
       "    .dataframe thead th {\n",
       "        text-align: right;\n",
       "    }\n",
       "</style>\n",
       "<table border=\"1\" class=\"dataframe\">\n",
       "  <thead>\n",
       "    <tr style=\"text-align: right;\">\n",
       "      <th></th>\n",
       "      <th>ConvertedComp</th>\n",
       "      <th>LanguageWorkedWith</th>\n",
       "    </tr>\n",
       "  </thead>\n",
       "  <tbody>\n",
       "    <tr>\n",
       "      <th>65825</th>\n",
       "      <td>2000000.0</td>\n",
       "      <td>Assembly;Bash/Shell/PowerShell;C;C++;Go;HTML/C...</td>\n",
       "    </tr>\n",
       "    <tr>\n",
       "      <th>38807</th>\n",
       "      <td>2000000.0</td>\n",
       "      <td>C;C++;JavaScript;Python;R;Rust</td>\n",
       "    </tr>\n",
       "    <tr>\n",
       "      <th>64456</th>\n",
       "      <td>2000000.0</td>\n",
       "      <td>Assembly;Bash/Shell/PowerShell;C++;C#;Elixir;H...</td>\n",
       "    </tr>\n",
       "    <tr>\n",
       "      <th>64447</th>\n",
       "      <td>2000000.0</td>\n",
       "      <td>Bash/Shell/PowerShell;C++;Go;HTML/CSS;JavaScri...</td>\n",
       "    </tr>\n",
       "    <tr>\n",
       "      <th>25271</th>\n",
       "      <td>2000000.0</td>\n",
       "      <td>C#;JavaScript;Python;SQL;Other(s):</td>\n",
       "    </tr>\n",
       "    <tr>\n",
       "      <th>...</th>\n",
       "      <td>...</td>\n",
       "      <td>...</td>\n",
       "    </tr>\n",
       "    <tr>\n",
       "      <th>88854</th>\n",
       "      <td>NaN</td>\n",
       "      <td>Bash/Shell/PowerShell;C;C++;HTML/CSS;Java;Java...</td>\n",
       "    </tr>\n",
       "    <tr>\n",
       "      <th>88860</th>\n",
       "      <td>NaN</td>\n",
       "      <td>Bash/Shell/PowerShell;C++;Python;Ruby;Other(s):</td>\n",
       "    </tr>\n",
       "    <tr>\n",
       "      <th>88865</th>\n",
       "      <td>NaN</td>\n",
       "      <td>Bash/Shell/PowerShell;HTML/CSS;Python;Other(s):</td>\n",
       "    </tr>\n",
       "    <tr>\n",
       "      <th>88872</th>\n",
       "      <td>NaN</td>\n",
       "      <td>C;C++;HTML/CSS;JavaScript;PHP;Python;SQL</td>\n",
       "    </tr>\n",
       "    <tr>\n",
       "      <th>88876</th>\n",
       "      <td>NaN</td>\n",
       "      <td>HTML/CSS;JavaScript;Python</td>\n",
       "    </tr>\n",
       "  </tbody>\n",
       "</table>\n",
       "<p>36443 rows × 2 columns</p>\n",
       "</div>"
      ],
      "text/plain": [
       "       ConvertedComp                                 LanguageWorkedWith\n",
       "65825      2000000.0  Assembly;Bash/Shell/PowerShell;C;C++;Go;HTML/C...\n",
       "38807      2000000.0                     C;C++;JavaScript;Python;R;Rust\n",
       "64456      2000000.0  Assembly;Bash/Shell/PowerShell;C++;C#;Elixir;H...\n",
       "64447      2000000.0  Bash/Shell/PowerShell;C++;Go;HTML/CSS;JavaScri...\n",
       "25271      2000000.0                 C#;JavaScript;Python;SQL;Other(s):\n",
       "...              ...                                                ...\n",
       "88854            NaN  Bash/Shell/PowerShell;C;C++;HTML/CSS;Java;Java...\n",
       "88860            NaN    Bash/Shell/PowerShell;C++;Python;Ruby;Other(s):\n",
       "88865            NaN    Bash/Shell/PowerShell;HTML/CSS;Python;Other(s):\n",
       "88872            NaN           C;C++;HTML/CSS;JavaScript;PHP;Python;SQL\n",
       "88876            NaN                         HTML/CSS;JavaScript;Python\n",
       "\n",
       "[36443 rows x 2 columns]"
      ]
     },
     "execution_count": 2,
     "metadata": {},
     "output_type": "execute_result"
    }
   ],
   "source": [
    "filt = df[\"LanguageWorkedWith\"].str.contains(\"Python\", na=False)\n",
    "df.loc[filt, [\"ConvertedComp\",\"LanguageWorkedWith\"]].sort_values(\"ConvertedComp\", ascending=False)"
   ]
  }
 ],
 "metadata": {
  "kernelspec": {
   "display_name": "Python 3",
   "language": "python",
   "name": "python3"
  },
  "language_info": {
   "codemirror_mode": {
    "name": "ipython",
    "version": 3
   },
   "file_extension": ".py",
   "mimetype": "text/x-python",
   "name": "python",
   "nbconvert_exporter": "python",
   "pygments_lexer": "ipython3",
   "version": "3.7.6"
  }
 },
 "nbformat": 4,
 "nbformat_minor": 4
}
