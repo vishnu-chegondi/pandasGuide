{
 "cells": [
  {
   "cell_type": "code",
   "execution_count": 1,
   "metadata": {},
   "outputs": [],
   "source": [
    "import pandas as pd\n",
    "Employee = {\n",
    "    \"First\": [\"vishnu\", \"siva\", \"madhu\"],\n",
    "    \"Last\": [\"Chegondi\", \"Prasad\", \"Vasanth\"],\n",
    "    \"email\": [\"Vishnu.chegondi@email.com\",\"siva.prasad@email.com\",\"madhu.vasanth@email.com\"]\n",
    "}\n",
    "employee_df = pd.DataFrame(Employee)"
   ]
  },
  {
   "cell_type": "code",
   "execution_count": 2,
   "metadata": {},
   "outputs": [
    {
     "data": {
      "text/html": [
       "<div>\n",
       "<style scoped>\n",
       "    .dataframe tbody tr th:only-of-type {\n",
       "        vertical-align: middle;\n",
       "    }\n",
       "\n",
       "    .dataframe tbody tr th {\n",
       "        vertical-align: top;\n",
       "    }\n",
       "\n",
       "    .dataframe thead th {\n",
       "        text-align: right;\n",
       "    }\n",
       "</style>\n",
       "<table border=\"1\" class=\"dataframe\">\n",
       "  <thead>\n",
       "    <tr style=\"text-align: right;\">\n",
       "      <th></th>\n",
       "      <th>First</th>\n",
       "      <th>Last</th>\n",
       "      <th>email</th>\n",
       "      <th>FullName</th>\n",
       "    </tr>\n",
       "  </thead>\n",
       "  <tbody>\n",
       "    <tr>\n",
       "      <th>0</th>\n",
       "      <td>vishnu</td>\n",
       "      <td>Chegondi</td>\n",
       "      <td>Vishnu.chegondi@email.com</td>\n",
       "      <td>vishnu Chegondi</td>\n",
       "    </tr>\n",
       "    <tr>\n",
       "      <th>1</th>\n",
       "      <td>siva</td>\n",
       "      <td>Prasad</td>\n",
       "      <td>siva.prasad@email.com</td>\n",
       "      <td>siva Prasad</td>\n",
       "    </tr>\n",
       "    <tr>\n",
       "      <th>2</th>\n",
       "      <td>madhu</td>\n",
       "      <td>Vasanth</td>\n",
       "      <td>madhu.vasanth@email.com</td>\n",
       "      <td>madhu Vasanth</td>\n",
       "    </tr>\n",
       "  </tbody>\n",
       "</table>\n",
       "</div>"
      ],
      "text/plain": [
       "    First      Last                      email         FullName\n",
       "0  vishnu  Chegondi  Vishnu.chegondi@email.com  vishnu Chegondi\n",
       "1    siva    Prasad      siva.prasad@email.com      siva Prasad\n",
       "2   madhu   Vasanth    madhu.vasanth@email.com    madhu Vasanth"
      ]
     },
     "execution_count": 2,
     "metadata": {},
     "output_type": "execute_result"
    }
   ],
   "source": [
    "employee_df['FullName'] = employee_df['First']+' '+employee_df['Last']\n",
    "employee_df"
   ]
  },
  {
   "cell_type": "code",
   "execution_count": 3,
   "metadata": {},
   "outputs": [
    {
     "data": {
      "text/html": [
       "<div>\n",
       "<style scoped>\n",
       "    .dataframe tbody tr th:only-of-type {\n",
       "        vertical-align: middle;\n",
       "    }\n",
       "\n",
       "    .dataframe tbody tr th {\n",
       "        vertical-align: top;\n",
       "    }\n",
       "\n",
       "    .dataframe thead th {\n",
       "        text-align: right;\n",
       "    }\n",
       "</style>\n",
       "<table border=\"1\" class=\"dataframe\">\n",
       "  <thead>\n",
       "    <tr style=\"text-align: right;\">\n",
       "      <th></th>\n",
       "      <th>email</th>\n",
       "      <th>FullName</th>\n",
       "    </tr>\n",
       "  </thead>\n",
       "  <tbody>\n",
       "    <tr>\n",
       "      <th>0</th>\n",
       "      <td>Vishnu.chegondi@email.com</td>\n",
       "      <td>vishnu Chegondi</td>\n",
       "    </tr>\n",
       "    <tr>\n",
       "      <th>1</th>\n",
       "      <td>siva.prasad@email.com</td>\n",
       "      <td>siva Prasad</td>\n",
       "    </tr>\n",
       "    <tr>\n",
       "      <th>2</th>\n",
       "      <td>madhu.vasanth@email.com</td>\n",
       "      <td>madhu Vasanth</td>\n",
       "    </tr>\n",
       "  </tbody>\n",
       "</table>\n",
       "</div>"
      ],
      "text/plain": [
       "                       email         FullName\n",
       "0  Vishnu.chegondi@email.com  vishnu Chegondi\n",
       "1      siva.prasad@email.com      siva Prasad\n",
       "2    madhu.vasanth@email.com    madhu Vasanth"
      ]
     },
     "execution_count": 3,
     "metadata": {},
     "output_type": "execute_result"
    }
   ],
   "source": [
    "employee_df.drop(columns=['First','Last'], inplace=True)\n",
    "employee_df"
   ]
  },
  {
   "cell_type": "code",
   "execution_count": 4,
   "metadata": {},
   "outputs": [
    {
     "data": {
      "text/html": [
       "<div>\n",
       "<style scoped>\n",
       "    .dataframe tbody tr th:only-of-type {\n",
       "        vertical-align: middle;\n",
       "    }\n",
       "\n",
       "    .dataframe tbody tr th {\n",
       "        vertical-align: top;\n",
       "    }\n",
       "\n",
       "    .dataframe thead th {\n",
       "        text-align: right;\n",
       "    }\n",
       "</style>\n",
       "<table border=\"1\" class=\"dataframe\">\n",
       "  <thead>\n",
       "    <tr style=\"text-align: right;\">\n",
       "      <th></th>\n",
       "      <th>email</th>\n",
       "      <th>FullName</th>\n",
       "      <th>First</th>\n",
       "      <th>Last</th>\n",
       "    </tr>\n",
       "  </thead>\n",
       "  <tbody>\n",
       "    <tr>\n",
       "      <th>0</th>\n",
       "      <td>Vishnu.chegondi@email.com</td>\n",
       "      <td>vishnu Chegondi</td>\n",
       "      <td>vishnu</td>\n",
       "      <td>Chegondi</td>\n",
       "    </tr>\n",
       "    <tr>\n",
       "      <th>1</th>\n",
       "      <td>siva.prasad@email.com</td>\n",
       "      <td>siva Prasad</td>\n",
       "      <td>siva</td>\n",
       "      <td>Prasad</td>\n",
       "    </tr>\n",
       "    <tr>\n",
       "      <th>2</th>\n",
       "      <td>madhu.vasanth@email.com</td>\n",
       "      <td>madhu Vasanth</td>\n",
       "      <td>madhu</td>\n",
       "      <td>Vasanth</td>\n",
       "    </tr>\n",
       "  </tbody>\n",
       "</table>\n",
       "</div>"
      ],
      "text/plain": [
       "                       email         FullName   First      Last\n",
       "0  Vishnu.chegondi@email.com  vishnu Chegondi  vishnu  Chegondi\n",
       "1      siva.prasad@email.com      siva Prasad    siva    Prasad\n",
       "2    madhu.vasanth@email.com    madhu Vasanth   madhu   Vasanth"
      ]
     },
     "execution_count": 4,
     "metadata": {},
     "output_type": "execute_result"
    }
   ],
   "source": [
    "employee_df[['First','Last']]=employee_df['FullName'].str.split(' ', expand=True)\n",
    "employee_df"
   ]
  },
  {
   "cell_type": "code",
   "execution_count": 5,
   "metadata": {},
   "outputs": [
    {
     "data": {
      "text/html": [
       "<div>\n",
       "<style scoped>\n",
       "    .dataframe tbody tr th:only-of-type {\n",
       "        vertical-align: middle;\n",
       "    }\n",
       "\n",
       "    .dataframe tbody tr th {\n",
       "        vertical-align: top;\n",
       "    }\n",
       "\n",
       "    .dataframe thead th {\n",
       "        text-align: right;\n",
       "    }\n",
       "</style>\n",
       "<table border=\"1\" class=\"dataframe\">\n",
       "  <thead>\n",
       "    <tr style=\"text-align: right;\">\n",
       "      <th></th>\n",
       "      <th>email</th>\n",
       "      <th>FullName</th>\n",
       "      <th>First</th>\n",
       "      <th>Last</th>\n",
       "      <th>Developer</th>\n",
       "    </tr>\n",
       "  </thead>\n",
       "  <tbody>\n",
       "    <tr>\n",
       "      <th>0</th>\n",
       "      <td>Vishnu.chegondi@email.com</td>\n",
       "      <td>vishnu Chegondi</td>\n",
       "      <td>vishnu</td>\n",
       "      <td>Chegondi</td>\n",
       "      <td>NaN</td>\n",
       "    </tr>\n",
       "    <tr>\n",
       "      <th>1</th>\n",
       "      <td>siva.prasad@email.com</td>\n",
       "      <td>siva Prasad</td>\n",
       "      <td>siva</td>\n",
       "      <td>Prasad</td>\n",
       "      <td>NaN</td>\n",
       "    </tr>\n",
       "    <tr>\n",
       "      <th>2</th>\n",
       "      <td>madhu.vasanth@email.com</td>\n",
       "      <td>madhu Vasanth</td>\n",
       "      <td>madhu</td>\n",
       "      <td>Vasanth</td>\n",
       "      <td>NaN</td>\n",
       "    </tr>\n",
       "    <tr>\n",
       "      <th>3</th>\n",
       "      <td>NaN</td>\n",
       "      <td>NaN</td>\n",
       "      <td>NaN</td>\n",
       "      <td>NaN</td>\n",
       "      <td>1.0</td>\n",
       "    </tr>\n",
       "  </tbody>\n",
       "</table>\n",
       "</div>"
      ],
      "text/plain": [
       "                       email         FullName   First      Last  Developer\n",
       "0  Vishnu.chegondi@email.com  vishnu Chegondi  vishnu  Chegondi        NaN\n",
       "1      siva.prasad@email.com      siva Prasad    siva    Prasad        NaN\n",
       "2    madhu.vasanth@email.com    madhu Vasanth   madhu   Vasanth        NaN\n",
       "3                        NaN              NaN     NaN       NaN        1.0"
      ]
     },
     "execution_count": 5,
     "metadata": {},
     "output_type": "execute_result"
    }
   ],
   "source": [
    "employee_df = employee_df.append({'Developer':True},ignore_index=True, sort=False)\n",
    "employee_df"
   ]
  },
  {
   "cell_type": "code",
   "execution_count": 6,
   "metadata": {},
   "outputs": [
    {
     "data": {
      "text/html": [
       "<div>\n",
       "<style scoped>\n",
       "    .dataframe tbody tr th:only-of-type {\n",
       "        vertical-align: middle;\n",
       "    }\n",
       "\n",
       "    .dataframe tbody tr th {\n",
       "        vertical-align: top;\n",
       "    }\n",
       "\n",
       "    .dataframe thead th {\n",
       "        text-align: right;\n",
       "    }\n",
       "</style>\n",
       "<table border=\"1\" class=\"dataframe\">\n",
       "  <thead>\n",
       "    <tr style=\"text-align: right;\">\n",
       "      <th></th>\n",
       "      <th>email</th>\n",
       "      <th>FullName</th>\n",
       "      <th>First</th>\n",
       "      <th>Last</th>\n",
       "      <th>Developer</th>\n",
       "    </tr>\n",
       "  </thead>\n",
       "  <tbody>\n",
       "    <tr>\n",
       "      <th>0</th>\n",
       "      <td>Vishnu.chegondi@email.com</td>\n",
       "      <td>vishnu Chegondi</td>\n",
       "      <td>vishnu</td>\n",
       "      <td>Chegondi</td>\n",
       "      <td>NaN</td>\n",
       "    </tr>\n",
       "    <tr>\n",
       "      <th>1</th>\n",
       "      <td>siva.prasad@email.com</td>\n",
       "      <td>siva Prasad</td>\n",
       "      <td>siva</td>\n",
       "      <td>Prasad</td>\n",
       "      <td>NaN</td>\n",
       "    </tr>\n",
       "    <tr>\n",
       "      <th>2</th>\n",
       "      <td>madhu.vasanth@email.com</td>\n",
       "      <td>madhu Vasanth</td>\n",
       "      <td>madhu</td>\n",
       "      <td>Vasanth</td>\n",
       "      <td>NaN</td>\n",
       "    </tr>\n",
       "  </tbody>\n",
       "</table>\n",
       "</div>"
      ],
      "text/plain": [
       "                       email         FullName   First      Last  Developer\n",
       "0  Vishnu.chegondi@email.com  vishnu Chegondi  vishnu  Chegondi        NaN\n",
       "1      siva.prasad@email.com      siva Prasad    siva    Prasad        NaN\n",
       "2    madhu.vasanth@email.com    madhu Vasanth   madhu   Vasanth        NaN"
      ]
     },
     "execution_count": 6,
     "metadata": {},
     "output_type": "execute_result"
    }
   ],
   "source": [
    "filt = employee_df[\"Developer\"]==True\n",
    "employee_df.drop(index=employee_df[filt].index)"
   ]
  }
 ],
 "metadata": {
  "kernelspec": {
   "display_name": "Python 3",
   "language": "python",
   "name": "python3"
  },
  "language_info": {
   "codemirror_mode": {
    "name": "ipython",
    "version": 3
   },
   "file_extension": ".py",
   "mimetype": "text/x-python",
   "name": "python",
   "nbconvert_exporter": "python",
   "pygments_lexer": "ipython3",
   "version": "3.7.6"
  }
 },
 "nbformat": 4,
 "nbformat_minor": 4
}
